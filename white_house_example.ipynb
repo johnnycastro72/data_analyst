{
 "cells": [
  {
   "cell_type": "code",
   "execution_count": 1,
   "metadata": {},
   "outputs": [],
   "source": [
    "import requests\n",
    "import lxml\n",
    "import cchardet\n",
    "from bs4 import BeautifulSoup\n",
    "import time"
   ]
  },
  {
   "cell_type": "code",
   "execution_count": 2,
   "metadata": {},
   "outputs": [
    {
     "name": "stdout",
     "output_type": "stream",
     "text": [
      "200\n",
      "{'X-Build-Back-Better': 'https://usds.gov/', 'X-Frame-Options': 'DENY', 'Referrer-Policy': 'strict-origin-when-cross-origin', 'X-XSS-Protection': '1; mode=block', 'X-Content-Type-Options': 'nosniff', 'Content-Type': 'text/html; charset=UTF-8', 'Accept-Ranges': 'bytes', 'Vary': 'Accept-Encoding', 'Content-Encoding': 'gzip', 'Content-Length': '31223', 'Date': 'Tue, 23 Nov 2021 03:59:57 GMT', 'Connection': 'keep-alive', 'Strict-Transport-Security': 'max-age=31536000 ; includeSubDomains ; preload'}\n"
     ]
    }
   ],
   "source": [
    "result = requests.get(\"https://www.whitehouse.gov/briefings-statements/\")\n",
    "\n",
    "print(result.status_code)\n",
    "print(result.headers)"
   ]
  },
  {
   "cell_type": "code",
   "execution_count": 11,
   "metadata": {},
   "outputs": [],
   "source": [
    "src = result.content\n",
    "soup = BeautifulSoup(src, 'lxml')"
   ]
  },
  {
   "cell_type": "code",
   "execution_count": 9,
   "metadata": {},
   "outputs": [],
   "source": [
    "src = result.content\n",
    "soup = BeautifulSoup(src, 'html.parser')"
   ]
  },
  {
   "cell_type": "code",
   "execution_count": 12,
   "metadata": {},
   "outputs": [
    {
     "name": "stdout",
     "output_type": "stream",
     "text": [
      "['https://www.whitehouse.gov/briefing-room/press-briefings/2021/11/22/press-gaggle-by-press-secretary-jen-psaki-en-route-fort-bragg-nc/', 'https://www.whitehouse.gov/briefing-room/speeches-remarks/2021/11/22/remarks-by-president-biden-celebrating-friendsgiving-as-part-of-the-joining-forces-initiative/', 'https://www.whitehouse.gov/briefing-room/press-briefings/2021/11/22/press-briefing-by-white-house-covid-19-response-team-and-public-health-officials-69/', 'https://www.whitehouse.gov/briefing-room/speeches-remarks/2021/11/22/remarks-by-president-biden-announcing-his-nominees-for-chair-and-vice-chair-of-the-board-of-governors-of-the-federal-reserve-system/', 'https://www.whitehouse.gov/briefing-room/statements-releases/2021/11/22/statement-from-nsc-spokesperson-emily-horne-on-national-security-advisor-jake-sullivans-meeting-with-christian-schmidt-high-representative-for-bosnia-and-herzegovina/', 'https://www.whitehouse.gov/briefing-room/statements-releases/2021/11/22/bills-signed-h-r-2093-and-h-r-2911/', 'https://www.whitehouse.gov/briefing-room/statements-releases/2021/11/22/vice-president-harris-announces-historic-funding-to-bolster-equitable-health-care-during-pandemic-and-beyond/', 'https://www.whitehouse.gov/briefing-room/statements-releases/2021/11/22/president-biden-nominates-jerome-powell-to-serve-as-chair-of-the-federal-reserve-dr-lael-brainard-to-serve-as-vice-chair/', 'https://www.whitehouse.gov/briefing-room/statements-releases/2021/11/20/statement-by-president-biden-on-transgender-day-of-remembrance/', 'https://www.whitehouse.gov/briefing-room/statements-releases/2021/11/20/biden-harris-administration-memorializes-transgender-day-of-remembrance/']\n"
     ]
    }
   ],
   "source": [
    "urls = []\n",
    "for h2_tag in soup.find_all(\"h2\"):\n",
    "    if h2_tag.find('a') != None:\n",
    "        a_tag = h2_tag.find('a')\n",
    "        urls.append(a_tag.attrs['href'])\n",
    "\n",
    "print(urls)"
   ]
  }
 ],
 "metadata": {
  "interpreter": {
   "hash": "39fd708af8d127256f988734963ba7b25140dfa06d08f9e269b4500ef703149c"
  },
  "kernelspec": {
   "display_name": "Python 3.9.9 64-bit ('env': venv)",
   "language": "python",
   "name": "python3"
  },
  "language_info": {
   "codemirror_mode": {
    "name": "ipython",
    "version": 3
   },
   "file_extension": ".py",
   "mimetype": "text/x-python",
   "name": "python",
   "nbconvert_exporter": "python",
   "pygments_lexer": "ipython3",
   "version": "3.9.9"
  },
  "orig_nbformat": 4
 },
 "nbformat": 4,
 "nbformat_minor": 2
}
